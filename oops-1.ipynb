{
 "cells": [
  {
   "cell_type": "markdown",
   "id": "ee65dc38-ae91-4f68-b359-a3c949260ea7",
   "metadata": {},
   "source": [
    "Q1, Create a vehicle class with an init method having instance variables as name_of_vehicle, max_speed and average_of_vehicle.\n"
   ]
  },
  {
   "cell_type": "code",
   "execution_count": 88,
   "id": "7a9fb7ce-2f91-474b-890f-f668461fa0b1",
   "metadata": {},
   "outputs": [
    {
     "name": "stdout",
     "output_type": "stream",
     "text": [
      "BMW 220 50\n"
     ]
    }
   ],
   "source": [
    "class vehicle:\n",
    "    def __init__(self,name_of_vehicle, max_speed, average_of_vehicle):\n",
    "        self.name_of_vehicle= name_of_vehicle\n",
    "        self.max_speed= max_speed\n",
    "        self.average_of_vehicle= average_of_vehicle\n",
    "        \n",
    "#we check the value\n",
    "a=vehicle(\"BMW\" , 220, 50)\n",
    "print(a.name_of_vehicle,a.max_speed,a.average_of_vehicle)"
   ]
  },
  {
   "cell_type": "markdown",
   "id": "bf15f30a-6b8b-4856-8f0f-ecfb0af06214",
   "metadata": {},
   "source": [
    "Q2. Create a child class car from the vehicle class created in Que 1, which will inherit the vehicle class. Create a method named seating_capacity which takes capacity as an argument and returns the name of the vehicle and its seating capacity."
   ]
  },
  {
   "cell_type": "code",
   "execution_count": 90,
   "id": "6aa78cbb-a92b-4ff0-8ca6-bc10964bd6f5",
   "metadata": {},
   "outputs": [
    {
     "name": "stdout",
     "output_type": "stream",
     "text": [
      "seating Capacity of BMW is 5\n"
     ]
    }
   ],
   "source": [
    "class Car(vehicle):\n",
    "    def seating_capacity(self, capacity):\n",
    "        self.capacity=capacity\n",
    "        return f\"seating Capacity of {a.name_of_vehicle} is {capacity}\"\n",
    "b=Car(\"bmw\",220,50)\n",
    "print(b.seating_capacity(5))   "
   ]
  },
  {
   "cell_type": "markdown",
   "id": "8739508a-2fd2-4d06-92f2-7f7ba63fe18f",
   "metadata": {},
   "source": [
    "Q3. What is multiple inheritance? Write a python code to demonstrate multiple inheritance."
   ]
  },
  {
   "cell_type": "raw",
   "id": "43ff8017-22bd-45e7-89f6-145ed81db240",
   "metadata": {},
   "source": [
    "Multiple inheritance is a feature in object-oriented programming where a class can inherit attributes and methods from multiple parent classes. In other words, a child class can inherit from more than one base class."
   ]
  },
  {
   "cell_type": "code",
   "execution_count": 102,
   "id": "8848e25a-0552-4b74-b5e9-8aebd653150d",
   "metadata": {},
   "outputs": [],
   "source": [
    "#example of multiple inheritance\n",
    "#first make one parent class\n",
    "class Parent:\n",
    "    def test(self):\n",
    "        return \"this is first Parent class\"\n",
    "    \n",
    "#second we make another class\n",
    "class Parent_2:\n",
    "    def test2(self):\n",
    "        return \"this is second Parent class\"\n",
    "    \n",
    "    \n",
    "#and finally we make child class\n",
    "class Child(Parent,Parent_2):\n",
    "    pass\n",
    "        "
   ]
  },
  {
   "cell_type": "code",
   "execution_count": 108,
   "id": "4269f6e3-079b-4b4d-b397-b70008f37cc5",
   "metadata": {},
   "outputs": [
    {
     "name": "stdout",
     "output_type": "stream",
     "text": [
      "this is first Parent class\n",
      "this is second Parent class\n"
     ]
    }
   ],
   "source": [
    "#now we check child class\n",
    "Check=Child()\n",
    "\n",
    "#we call first parent class from child class\n",
    "print(Check.test())\n",
    "\n",
    "#we call second parent class from child class\n",
    "print(Check.test2())"
   ]
  },
  {
   "cell_type": "markdown",
   "id": "aaf97b0d-2ad2-4b65-8701-3e324da0cec5",
   "metadata": {},
   "source": [
    "Q4. What are getter and setter in python? Create a class and create a getter and a setter method in this class."
   ]
  },
  {
   "cell_type": "raw",
   "id": "df94427e-b553-4243-9b4a-b72bb5a28216",
   "metadata": {},
   "source": [
    "In Python, getters and setters are methods used to access and modify the attributes (variables) of a class. They provide a way to control the access and modification of the class attributes and ensure proper encapsulation. \n",
    "1)The getter method retrieves the value of an attribute.\n",
    "2)The setter method allows you to modify the value of an attribute with certain validations or conditions."
   ]
  },
  {
   "cell_type": "code",
   "execution_count": 133,
   "id": "31c04eb4-12fd-4988-b7de-7e61caecf542",
   "metadata": {},
   "outputs": [
    {
     "name": "stdout",
     "output_type": "stream",
     "text": [
      "10 15\n",
      "width value must be greater than zero(0)\n",
      "5 15\n"
     ]
    }
   ],
   "source": [
    "#heres an example of setter and getter\n",
    "class Rectangle:\n",
    "    def __init__(self,height,width):\n",
    "        self.height=height\n",
    "        self.width=width\n",
    "\n",
    "        \n",
    "        \n",
    "        \n",
    "    def get_width(self):\n",
    "        return self.width\n",
    "    def set_width(self,width):\n",
    "        if width>0:\n",
    "            self.width=width\n",
    "        else:\n",
    "            print(\"width value must be greater than zero(0)\")\n",
    "            \n",
    "    def get_height(self):\n",
    "        return self.height\n",
    "    def set_height(self,height):\n",
    "        if height>0:\n",
    "            self.height=height\n",
    "        else:\n",
    "            print(\"height value must be greater than zero(0)\")\n",
    "    \n",
    "rect=Rectangle(10,15)\n",
    "print(rect.get_height(),rect.get_width())\n",
    "rect.set_height(5)\n",
    "rect.set_width(-5)\n",
    "print(rect.get_height(),rect.get_width())"
   ]
  },
  {
   "cell_type": "code",
   "execution_count": 126,
   "id": "b59316fe-d4fe-4131-96bb-8a9b7c3dca6a",
   "metadata": {},
   "outputs": [],
   "source": []
  },
  {
   "cell_type": "code",
   "execution_count": 127,
   "id": "2e971afe-61d6-4eed-85ec-1bec76e605b0",
   "metadata": {},
   "outputs": [
    {
     "name": "stdout",
     "output_type": "stream",
     "text": [
      "10 15\n"
     ]
    }
   ],
   "source": []
  },
  {
   "cell_type": "code",
   "execution_count": 132,
   "id": "8e5e71a0-2557-4670-b3e3-638d87cc0dd1",
   "metadata": {},
   "outputs": [
    {
     "name": "stdout",
     "output_type": "stream",
     "text": [
      "height value must be greater than zero(0)\n"
     ]
    }
   ],
   "source": [
    "rect.set_height(0)"
   ]
  },
  {
   "cell_type": "code",
   "execution_count": 130,
   "id": "7633f181-f0d3-4ab7-b4fe-4bf5fe69e440",
   "metadata": {},
   "outputs": [
    {
     "data": {
      "text/plain": [
       "5"
      ]
     },
     "execution_count": 130,
     "metadata": {},
     "output_type": "execute_result"
    }
   ],
   "source": [
    "rect.get_height()"
   ]
  },
  {
   "cell_type": "markdown",
   "id": "7ad2bc74-788c-4809-a02c-0709a91548ed",
   "metadata": {},
   "source": [
    "Q5.What is method overriding in python? Write a python code to demonstrate method overriding."
   ]
  },
  {
   "cell_type": "code",
   "execution_count": 1,
   "id": "04d4c93b-9ca4-4964-81c1-7c8dcdb7a118",
   "metadata": {},
   "outputs": [],
   "source": [
    "#Method overriding in Python occurs when a subclass provides a new implementation for a method that is already defined in its superclass.\n",
    "#When the subclass overrides a method, the new implementation in the subclass takes precedence over the method in the superclass. \n",
    "#This allows the subclass to customize the behavior of the method without changing its signature."
   ]
  },
  {
   "cell_type": "code",
   "execution_count": 2,
   "id": "fb81c772-b379-4cff-8c22-180c7cd27ea2",
   "metadata": {},
   "outputs": [],
   "source": [
    "#first we make superclass\n",
    "class Animals():\n",
    "    def make_sound(self):\n",
    "        return \"animal sound\"\n",
    " #then we make child class   \n",
    "class Cat(Animals):\n",
    "    def make_sound(self):\n",
    "        return \"Meow Meow\"\n",
    "    \n",
    "#we make another child class\n",
    "class Lion(Animals):\n",
    "    def make_sound(Animals):\n",
    "        return \"Roar\""
   ]
  },
  {
   "cell_type": "code",
   "execution_count": 5,
   "id": "19a4fc34-4c15-46b8-872d-e9f1cf62a908",
   "metadata": {},
   "outputs": [
    {
     "name": "stdout",
     "output_type": "stream",
     "text": [
      "cat says Meow Meow\n",
      "lion says Roar\n"
     ]
    }
   ],
   "source": [
    "cat_sound= Cat()\n",
    "lion_sound= Lion()\n",
    "print(\"cat says\" , cat_sound.make_sound())\n",
    "print(\"lion says\" , lion_sound.make_sound())"
   ]
  },
  {
   "cell_type": "code",
   "execution_count": null,
   "id": "6d2c6ff4-a969-4a45-a0b3-6d9944fae62e",
   "metadata": {},
   "outputs": [],
   "source": []
  }
 ],
 "metadata": {
  "kernelspec": {
   "display_name": "Python 3 (ipykernel)",
   "language": "python",
   "name": "python3"
  },
  "language_info": {
   "codemirror_mode": {
    "name": "ipython",
    "version": 3
   },
   "file_extension": ".py",
   "mimetype": "text/x-python",
   "name": "python",
   "nbconvert_exporter": "python",
   "pygments_lexer": "ipython3",
   "version": "3.10.8"
  }
 },
 "nbformat": 4,
 "nbformat_minor": 5
}
